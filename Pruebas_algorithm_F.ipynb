{
 "cells": [
  {
   "cell_type": "code",
   "execution_count": 1,
   "id": "25bf05d9-33cf-4e6e-8646-19ab9edb7cc6",
   "metadata": {},
   "outputs": [],
   "source": [
    "import os\n",
    "import nltk\n",
    "import math\n",
    "import csv\n",
    "import ssl\n",
    "import pickle\n",
    "import json"
   ]
  },
  {
   "cell_type": "code",
   "execution_count": 2,
   "id": "a5b5d4e2-7525-41c4-8f2a-4c1617e29e33",
   "metadata": {},
   "outputs": [
    {
     "name": "stderr",
     "output_type": "stream",
     "text": [
      "[nltk_data] Downloading package punkt to\n",
      "[nltk_data]     /Users/alejandrocaicedo/nltk_data...\n",
      "[nltk_data]   Package punkt is already up-to-date!\n",
      "[nltk_data] Downloading package stopwords to\n",
      "[nltk_data]     /Users/alejandrocaicedo/nltk_data...\n",
      "[nltk_data]   Package stopwords is already up-to-date!\n"
     ]
    },
    {
     "data": {
      "text/plain": [
       "True"
      ]
     },
     "execution_count": 2,
     "metadata": {},
     "output_type": "execute_result"
    }
   ],
   "source": [
    "try:\n",
    "    _create_unverified_https_context = ssl._create_unverified_context\n",
    "except AttributeError:\n",
    "    pass\n",
    "else:\n",
    "    ssl._create_default_https_context = _create_unverified_https_context\n",
    "\n",
    "nltk.download('punkt')\n",
    "nltk.download('stopwords')"
   ]
  },
  {
   "cell_type": "code",
   "execution_count": 3,
   "id": "60f0fd3c-ece5-45db-871e-b63cf34863ed",
   "metadata": {},
   "outputs": [],
   "source": [
    "corpus= {}\n",
    "exp={}\n",
    "skills={}\n",
    "auto_id = 1\n",
    "with open('dataTest.csv', 'r',  newline = '') as file_output:\n",
    "    headers = ['Category', 'Profile', 'Skills', 'Experiences', 'url']\n",
    "    csv_reader = csv.DictReader(file_output)\n",
    "    for row in csv_reader:\n",
    "        exp[auto_id] = int(row['Experiences'])\n",
    "        skills[auto_id] = eval(row['Skills'])\n",
    "        justText = row['Profile'] + \" \" + row['Skills'] + \" \" + row['Experiences']\n",
    "        #print(justText)\n",
    "        corpus[auto_id] = [word.lower() for word in nltk.word_tokenize(justText) if word.isalpha()]\n",
    "        auto_id += 1"
   ]
  },
  {
   "cell_type": "code",
   "execution_count": 6,
   "id": "d4187268-86fa-4cf3-81f3-3120110030b3",
   "metadata": {},
   "outputs": [],
   "source": [
    "#corpus[2]"
   ]
  },
  {
   "cell_type": "code",
   "execution_count": 4,
   "id": "3239bc78-ded4-4f57-b4c6-b6107fd91147",
   "metadata": {},
   "outputs": [],
   "source": [
    "with open('vector.pkl', 'rb') as file:\n",
    "        words_T = pickle.load(file)"
   ]
  },
  {
   "cell_type": "code",
   "execution_count": 5,
   "id": "5a0593e7-129a-40ba-beb7-fe696b1704df",
   "metadata": {},
   "outputs": [
    {
     "data": {
      "text/plain": [
       "10702"
      ]
     },
     "execution_count": 5,
     "metadata": {},
     "output_type": "execute_result"
    }
   ],
   "source": [
    "words = words_T\n",
    "len(words)"
   ]
  },
  {
   "cell_type": "code",
   "execution_count": 6,
   "id": "08200c20-f0ca-4fa1-a0b9-1dc641e9a9c4",
   "metadata": {},
   "outputs": [],
   "source": [
    "candidates_S = {}\n",
    "for a_id in corpus:\n",
    "    candidates_S[a_id] = [1 if word in corpus[a_id] else 0 for word in words]"
   ]
  },
  {
   "cell_type": "code",
   "execution_count": 21,
   "id": "8d67be1d-6bd6-4205-ab7f-258883c6dd44",
   "metadata": {},
   "outputs": [],
   "source": [
    "vacancy = {\n",
    "    \"id\": 1,\n",
    "\t\"company\": \"Mi Empresa\",\n",
    "\t\"companyNit\": \"1870385\",\n",
    "\t\"name\": \"Front-End Developer\",\n",
    "\t\"description\": \"\"\"\n",
    "     Acerca del empleo\n",
    "About Zoe\n",
    "\n",
    "\n",
    "Zoe Financial is a wealth platform for consumers to find, hire, and grow their wealth through innovative technology and exceptional client service. Zoe has raised over $24M and is backed by SoftBank and top executives at Blackrock, Charles Schwab, Uber, and Doordash. Its accolades include FastCo’s 2022 Most Innovative Personal Finance Companies, Nerdwallet’s 2022 & 2023 Best Online Financial Advisor, and Morningstar’s Fintech Startup of the Year 2019. The New York-based company has a strong leadership team with over 20 years of industry experience at firms like Morgan Stanley, JP Morgan, Merril Lynch, and Learnvest. We offer the excitement of a rapidly growing company with the stability of a tenured leadership team and advisory board.\n",
    "\n",
    "We have offices in New York and Bogota, Colombia.\n",
    "\n",
    "\n",
    "What you get:\n",
    "\n",
    "\n",
    "We’ve got a highly competitive salary and stock options package (as a member of the team you own a piece of the company we get to build together.) In addition, the Colombian team gets to travel to NYC once a year (Travel expenses paid) for our company offsite!\n",
    "\n",
    "\n",
    "About the Role\n",
    "\n",
    "\n",
    "Zoe is looking for a front-end developer to join the Zoe team in our Bogota (Zona Chico, Santa viviana) office. Our ideal candidate will understand how to develop user interfaces for consumers, has the desire to constantly improve the codebase and the product, and wants to enable others to do their job more effectively. The candidate will care deeply about maintaining code and improving software engineering for those around them. Using JavaScript, HTML, and CSS, this candidate will be able to translate user and business needs into functional front-end design.\n",
    "     \"\"\",\n",
    "\t\"additionalInfo\": \"\"\"\n",
    "     Responsibilities\n",
    "\n",
    "\n",
    "Develop and maintain new user-facing features.\n",
    "Collaborate with the product team to develop and implement web applications using modern front-end technologies.\n",
    "Translate UI/UX designs into high-quality code, ensuring performance, responsiveness, and cross-browser compatibility.\n",
    "Ensure scalability through code reviews, performance tuning, and best practices.\n",
    "Build reusable code and libraries for future use.\n",
    "Participate in the entire software development lifecycle, including estimation, development, testing, deployment, and maintenance.\n",
    "Work closely with the UI/UX designers and back-end developers to ensure seamless integration of front-end and back-end components.\n",
    "Have the ability to work in a fast-paced environment with a daily release cycle.\n",
    "\n",
    "You'll love working at Zoe because We...\n",
    "\n",
    "\n",
    "Are a successful, well funded, fast-growing company with a start-up work vibe\n",
    "Are passionate about our clients and live/breathe the client experience\n",
    "Are a technologically and data-driven business\n",
    "Offer competitive salaries and equity\n",
    "Are at the forefront of tech & finance, redefining personal finance\n",
    "Believe in autonomy & taking initiative\n",
    "\n",
    "Qualifications\n",
    "\n",
    "\n",
    "3-4+ years of experience implementing front-end web applications\n",
    "Strong understanding of modern JavaScript frameworks and libraries and the ability to apply them effectively\n",
    "Proficient understanding of web markup languages, including HTML5 and CSS3\n",
    "2+ years using the React (or similar) Framework\n",
    "Strong understanding of JavaScript libraries\n",
    "Proficiency in version control using Git\n",
    "Experience setting up development environment tools (compilers, pre-processors, etc)\n",
    "Self-motivated with a passion for problem-solving and a desire to stay up to date with emerging technologies and industry trends\n",
    "Proficiency in verbal and written English ( B2/C1 English level required).\n",
    "TypeScript\n",
    "     \"\"\",\n",
    "\t\"salary\": 5000000,\n",
    "\t\"modality\": \"Teletrabajo\",\n",
    "\t\"place\": \"Cali, Valle del Cauca, Colombia\",\n",
    "\t\"contract\": \"Termino indefinido\",\n",
    "\t\"experience\": 48,\n",
    "\t\"skills\": [\n",
    "        \"Bibliotecas de JavaScript\",\n",
    "        \"Desarrollo front end\",\n",
    "        \"Diseño de front-end\",\n",
    "        \"Experiencia de usuario\",\n",
    "        \"Frameworks de JavaScript\",\n",
    "        \"HTML5\",\n",
    "        \"Hojas de estilos en cascada (CSS)\",\n",
    "        \"JavaScript\",\n",
    "        \"Markup Languages\",\n",
    "        \"React.js\",\n",
    "        \"web responsive design\"\n",
    "\t],\n",
    "\t\"created_at\": \"2023-05-28T00:30:30.240213Z\",\n",
    "\t\"updated_at\": \"2023-06-29T00:30:30.240242Z\"\n",
    "}"
   ]
  },
  {
   "cell_type": "code",
   "execution_count": null,
   "id": "894ba1d6-bfc9-4325-9f0c-7b7540149db6",
   "metadata": {},
   "outputs": [],
   "source": []
  },
  {
   "cell_type": "code",
   "execution_count": 11,
   "id": "8d54b6b5-5427-46c8-afbe-ad56d645a5e4",
   "metadata": {},
   "outputs": [],
   "source": [
    "sText=\" \"\n",
    "for s in vacancy['skills']:\n",
    "    sText += s\n",
    "vacancyText = vacancy['description'] + sText + \" \"+ vacancy['additionalInfo'] +\" \"+ vacancy['name']\n",
    "vacancy_V = [word.lower() for word in nltk.word_tokenize(vacancyText) if word.isalpha()]\n",
    "vacancy_S = [1 if word in vacancy_V else 0 for word in words]"
   ]
  },
  {
   "cell_type": "code",
   "execution_count": 12,
   "id": "86eda415-dc71-42ee-9818-392c1061f6f5",
   "metadata": {},
   "outputs": [],
   "source": [
    "from sklearn.metrics.pairwise import cosine_similarity\n",
    "\n",
    "similarity = {}\n",
    "\n",
    "for a_id in candidates_S:\n",
    "    similarity[a_id] = cosine_similarity([vacancy_S],[candidates_S[a_id]])[0][0]\n",
    "\n",
    "similarity = dict(sorted(similarity.items(), key=lambda i: i[1], reverse=True))\n",
    "\n",
    "#similarity"
   ]
  },
  {
   "cell_type": "code",
   "execution_count": 13,
   "id": "88f3b16c-34f5-4229-b390-24f04b8d3eed",
   "metadata": {},
   "outputs": [],
   "source": [
    "similitud = {}\n",
    "for a_id in range(1,21):\n",
    "    similitud[a_id] = similarity[a_id]\n",
    "#similitud"
   ]
  },
  {
   "cell_type": "code",
   "execution_count": 14,
   "id": "34fb3050-87dc-4585-a914-085e66064d73",
   "metadata": {},
   "outputs": [],
   "source": [
    "def compareSkills(vSkl, sSkl):\n",
    "    total = len(vSkl)\n",
    "    cumplidas = 0\n",
    "    vSkl = loweCase(vSkl)\n",
    "    sSkl = loweCase(sSkl)\n",
    "    for s in vSkl:\n",
    "        if s in sSkl:\n",
    "            #print(s)\n",
    "            cumplidas += 1\n",
    "    \n",
    "    return cumplidas / total\n",
    "\n",
    "def loweCase(slist):\n",
    "    lowerArr = []\n",
    "    for s in slist:\n",
    "        try:\n",
    "            lowerArr.append(s.lower())\n",
    "        except AttributeError:\n",
    "            lowerArr.append(s['name'].lower())\n",
    "    return lowerArr\n",
    "\n",
    "compSkills = {}\n",
    "for a_id in range(1,21):\n",
    "    compSkills[a_id] = compareSkills(vacancy['skills'],skills[a_id])\n",
    "#compSkills"
   ]
  },
  {
   "cell_type": "code",
   "execution_count": 15,
   "id": "0fffcb4e-7edb-4405-b643-8262ce54ac51",
   "metadata": {},
   "outputs": [],
   "source": [
    "compExp = {}\n",
    "for a_id in range(1,21):\n",
    "    req = vacancy['experience']\n",
    "    std = exp[a_id]\n",
    "    if std > req:\n",
    "        compExp[a_id] = 1\n",
    "    else:\n",
    "        compExp[a_id] = std / req\n",
    "#compExp"
   ]
  },
  {
   "cell_type": "code",
   "execution_count": 16,
   "id": "3bc516ac-cc5c-4c37-b822-c3dde2ece7a3",
   "metadata": {},
   "outputs": [],
   "source": [
    "scores = {}\n",
    "for a_id in range(1,21):\n",
    "    scores[a_id] = {\n",
    "        \"similitud\": similitud[a_id],\n",
    "        \"skills\": compSkills[a_id],\n",
    "        \"experiencia\": compExp[a_id],\n",
    "        \"score_S\": 0.4*similitud[a_id] + 0.6*compSkills[a_id],# + 0.2*compExp[a_id],\n",
    "        \"score_H\": 1*compSkills[a_id]# + 0.2*compExp[a_id],\n",
    "    }\n",
    "score_S = dict(sorted(scores.items(), key=lambda i: i[1]['score_S'], reverse=True))\n",
    "score_H = dict(sorted(scores.items(), key=lambda i: i[1]['score_H'], reverse=True))"
   ]
  },
  {
   "cell_type": "code",
   "execution_count": 17,
   "id": "f746415e-0f1f-443b-ab68-715fba8fffc4",
   "metadata": {},
   "outputs": [
    {
     "name": "stdout",
     "output_type": "stream",
     "text": [
      "---------- COMPARACION ------------\n",
      "   Con Similitud   \n",
      " 12: 0.32\n",
      " 14: 0.29\n",
      " 13: 0.29\n",
      " 18: 0.26\n",
      " 16: 0.25\n",
      " 15: 0.21\n",
      " 19: 0.2\n",
      " 1: 0.18\n",
      " 11: 0.17\n",
      " 17: 0.15\n",
      " 3: 0.14\n",
      " 10: 0.14\n",
      " 5: 0.14\n",
      " 6: 0.14\n",
      " 20: 0.13\n",
      " 2: 0.12\n",
      " 7: 0.08\n",
      " 8: 0.06\n",
      " 9: 0.05\n",
      " 4: 0.02\n"
     ]
    }
   ],
   "source": [
    "print(\"---------- COMPARACION ------------\")\n",
    "print(\"   Con Similitud   \")\n",
    "count=1\n",
    "for clave, valor in score_S.items():\n",
    "    print(f' {clave}: {round(valor[\"score_S\"],2)}')\n",
    "    count+=1"
   ]
  },
  {
   "cell_type": "code",
   "execution_count": 18,
   "id": "8c8b8608-eddf-496d-b00f-594881235b25",
   "metadata": {},
   "outputs": [
    {
     "name": "stdout",
     "output_type": "stream",
     "text": [
      "---------- COMPARACION ------------\n",
      "   Sin Similitud   \n",
      " 12: 0.36\n",
      " 13: 0.36\n",
      " 14: 0.36\n",
      " 18: 0.36\n",
      " 16: 0.27\n",
      " 19: 0.27\n",
      " 1: 0.18\n",
      " 3: 0.18\n",
      " 6: 0.18\n",
      " 11: 0.18\n",
      " 15: 0.18\n",
      " 17: 0.18\n",
      " 20: 0.18\n",
      " 2: 0.09\n",
      " 5: 0.09\n",
      " 10: 0.09\n",
      " 4: 0.0\n",
      " 7: 0.0\n",
      " 8: 0.0\n",
      " 9: 0.0\n"
     ]
    }
   ],
   "source": [
    "print(\"---------- COMPARACION ------------\")\n",
    "print(\"   Sin Similitud   \")\n",
    "count = 1\n",
    "for clave, valor in score_H.items():\n",
    "    print(f' {clave}: {round(valor[\"score_H\"],2)}')\n",
    "    count+=1"
   ]
  },
  {
   "cell_type": "code",
   "execution_count": null,
   "id": "35c729bd-cec0-446e-891b-a8bfde1d2282",
   "metadata": {},
   "outputs": [],
   "source": []
  },
  {
   "cell_type": "code",
   "execution_count": 2,
   "id": "918b3787-9559-445a-8215-dc73ca1b5375",
   "metadata": {},
   "outputs": [],
   "source": [
    "skills={}\n",
    "auto_id = 1\n",
    "with open('dataTest.csv', 'r',  newline = '') as file_output:\n",
    "    headers = ['Category', 'Profile', 'Skills', 'Experiences', 'url']\n",
    "    csv_reader = csv.DictReader(file_output)\n",
    "    for row in csv_reader:\n",
    "        skills[auto_id] = eval(row['Skills'])\n",
    "        auto_id += 1"
   ]
  },
  {
   "cell_type": "code",
   "execution_count": 18,
   "id": "b73e4538-b2b7-419c-a21c-ba3b9e2f0066",
   "metadata": {},
   "outputs": [
    {
     "name": "stdout",
     "output_type": "stream",
     "text": [
      "{\n",
      " 4: ['fastapi', 'python', 'django', 'bootstrap', 'go', 'postgresql', 'odoo', 'git']\n",
      "}\n"
     ]
    }
   ],
   "source": [
    "print(\"{\")\n",
    "print(\" 4:\",skills[4])\n",
    "print(\"}\")"
   ]
  },
  {
   "cell_type": "code",
   "execution_count": null,
   "id": "ad8c41c6-8c8b-4049-9580-c8f9aab587d0",
   "metadata": {},
   "outputs": [],
   "source": []
  }
 ],
 "metadata": {
  "kernelspec": {
   "display_name": "Python 3 (ipykernel)",
   "language": "python",
   "name": "python3"
  },
  "language_info": {
   "codemirror_mode": {
    "name": "ipython",
    "version": 3
   },
   "file_extension": ".py",
   "mimetype": "text/x-python",
   "name": "python",
   "nbconvert_exporter": "python",
   "pygments_lexer": "ipython3",
   "version": "3.11.3"
  }
 },
 "nbformat": 4,
 "nbformat_minor": 5
}
