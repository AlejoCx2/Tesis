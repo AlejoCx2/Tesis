{
 "cells": [
  {
   "cell_type": "code",
   "execution_count": 27,
   "id": "33cf045c-41af-4054-b905-f2d157442864",
   "metadata": {},
   "outputs": [
    {
     "ename": "AttributeError",
     "evalue": "'Person' object has no attribute 'skills'",
     "output_type": "error",
     "traceback": [
      "\u001b[0;31m---------------------------------------------------------------------------\u001b[0m",
      "\u001b[0;31mAttributeError\u001b[0m                            Traceback (most recent call last)",
      "Cell \u001b[0;32mIn[27], line 10\u001b[0m\n\u001b[1;32m      7\u001b[0m actions\u001b[38;5;241m.\u001b[39mlogin(driver, email, password) \u001b[38;5;66;03m# if email and password isnt given, it'll prompt in terminal\u001b[39;00m\n\u001b[1;32m      8\u001b[0m person \u001b[38;5;241m=\u001b[39m Person(\u001b[38;5;124m\"\u001b[39m\u001b[38;5;124mhttps://www.linkedin.com/in/juliette-barboza-candelo-6b7455170\u001b[39m\u001b[38;5;124m\"\u001b[39m, driver\u001b[38;5;241m=\u001b[39mdriver, scrape\u001b[38;5;241m=\u001b[39m\u001b[38;5;28;01mFalse\u001b[39;00m)\n\u001b[0;32m---> 10\u001b[0m habilidades \u001b[38;5;241m=\u001b[39m \u001b[43mperson\u001b[49m\u001b[38;5;241;43m.\u001b[39;49m\u001b[43mskills\u001b[49m\n",
      "\u001b[0;31mAttributeError\u001b[0m: 'Person' object has no attribute 'skills'"
     ]
    }
   ],
   "source": [
    "from linkedin_scraper import Person, actions\n",
    "from selenium import webdriver\n",
    "driver = webdriver.Chrome()\n",
    "\n",
    "email = \"alejandrocaicedo21216@gmail.com\"\n",
    "password = \"Aletrox123\"\n",
    "actions.login(driver, email, password) # if email and password isnt given, it'll prompt in terminal\n",
    "person = Person(\"https://www.linkedin.com/in/juliette-barboza-candelo-6b7455170\", driver=driver, scrape=False)\n",
    "\n",
    "habilidades = person.skills\n"
   ]
  },
  {
   "cell_type": "code",
   "execution_count": 39,
   "id": "835355bb-ce7a-4142-8bfc-ec0f531c5e6f",
   "metadata": {},
   "outputs": [],
   "source": [
    "from linkedin_scraper import Person, actions\n",
    "from selenium import webdriver\n",
    "from selenium.webdriver.common.by import By\n",
    "from selenium.webdriver.common.keys import Keys\n",
    "from bs4 import BeautifulSoup\n",
    "from time import sleep\n",
    "\n",
    "prompt = \"SAP Developer\"\n",
    "\n",
    "options = webdriver.ChromeOptions()\n",
    "options.add_argument('--ignore-certificate-errors')\n",
    "options.add_argument('--incognito')\n",
    "#options.add_argument('--headless')\n",
    "\n",
    "driver = webdriver.Chrome(options=options)\n",
    "email = \"alexistimana021@gmail.com\"\n",
    "password = \"EXC!v5$K\"\n",
    "actions.login(driver, email, password)\n",
    "SearchInput = driver.find_element(By.CLASS_NAME, \"search-global-typeahead__input\")\n",
    "SearchInput.send_keys(prompt + Keys.ENTER)\n",
    "sleep(3)\n",
    "\n",
    "parts = driver.current_url.split('all')\n",
    "peopleURL = parts[0]+'people'+parts[1]\n",
    "driver.get(peopleURL)\n",
    "#person = Person(\"https://www.linkedin.com/in/juan-sebastian-medina-parra\", driver = driver, scrape=False)\n",
    "#person.scrape()"
   ]
  },
  {
   "cell_type": "code",
   "execution_count": 4,
   "id": "9e977e28-aee3-4d18-9533-392651950112",
   "metadata": {},
   "outputs": [],
   "source": [
    "parts = driver.current_url.split('all')\n",
    "peopleURL = parts[0]+'people'+parts[1]\n",
    "driver.get(peopleURL)"
   ]
  },
  {
   "cell_type": "code",
   "execution_count": null,
   "id": "632999b4-6fa2-4e36-bda8-ee35b9fc0a22",
   "metadata": {},
   "outputs": [],
   "source": []
  },
  {
   "cell_type": "code",
   "execution_count": 40,
   "id": "e7e817f4-aa58-45d5-8669-c157664475d7",
   "metadata": {},
   "outputs": [
    {
     "name": "stdout",
     "output_type": "stream",
     "text": [
      "- Finish Task 3: Scrape the URLs\n"
     ]
    }
   ],
   "source": [
    "def GetURL():\n",
    "    page_source = BeautifulSoup(driver.page_source, 'html.parser')\n",
    "    profiles = page_source.find_all('a', class_ = 'app-aware-link scale-down')\n",
    "    #print(profiles)\n",
    "    all_profile_URL = []\n",
    "    for profile in profiles:\n",
    "        profile_URL = profile.get('href')\n",
    "        if profile_URL not in all_profile_URL:\n",
    "            all_profile_URL.append(profile_URL)\n",
    "    return all_profile_URL\n",
    "\n",
    "# Task 3.2: Navigate through many page, and extract the profile URLs of each page\n",
    "\n",
    "input_page = 3\n",
    "URLs_all_page = []\n",
    "for page in range(input_page):\n",
    "    URLs_one_page = GetURL()\n",
    "    sleep(2)\n",
    "    driver.execute_script('window.scrollTo(0, document.body.scrollHeight);') #scroll to the end of the page\n",
    "    sleep(3)\n",
    "    next_button = driver.find_element(By.CLASS_NAME, \"artdeco-pagination__button--next\")\n",
    "    driver.execute_script(\"arguments[0].click();\", next_button)\n",
    "    URLs_all_page = URLs_all_page + URLs_one_page\n",
    "    sleep(2)\n",
    "\n",
    "print('- Finish Task 3: Scrape the URLs')\n",
    "#print(URLs_all_page)"
   ]
  },
  {
   "cell_type": "code",
   "execution_count": 41,
   "id": "4b78ece5-cddf-4bd1-a43d-2fecd981df39",
   "metadata": {},
   "outputs": [
    {
     "data": {
      "text/plain": [
       "['https://www.linkedin.com/in/daniel-correa-arango?miniProfileUrn=urn%3Ali%3Afs_miniProfile%3AACoAABY8hacBEr90FmIkJGIf44ukQvdU-XS3NwU',\n",
       " 'https://www.linkedin.com/in/juli%C3%A1n-rinc%C3%B3n-117600199?miniProfileUrn=urn%3Ali%3Afs_miniProfile%3AACoAAC6KmKMBOAcWg2oOtxcrUUh4TJ0J1mw1YIs',\n",
       " 'https://www.linkedin.com/in/angela-giraldo-software-developer?miniProfileUrn=urn%3Ali%3Afs_miniProfile%3AACoAAAvwzrkBSFLUB4E6XT4kCBTr1DRAx2FWJZo',\n",
       " 'https://www.linkedin.com/in/pedro-alexis-alegr%C3%ADa-martinez-185509115?miniProfileUrn=urn%3Ali%3Afs_miniProfile%3AACoAABy6ybUBR4GlqCHLtJRkWD8mFRDa2wrDmVI',\n",
       " 'https://www.linkedin.com/in/alejandro-cifuentes-montoya-803530142?miniProfileUrn=urn%3Ali%3Afs_miniProfile%3AACoAACKbE4MBlmwk1I2v6KO3SYkLe81Z3Jq6vjk',\n",
       " 'https://www.linkedin.com/in/laatcode?miniProfileUrn=urn%3Ali%3Afs_miniProfile%3AACoAADLsIh0Bs8NBIMrqbnoJ89bb7lcyPz_VaYE',\n",
       " 'https://www.linkedin.com/in/rafael-navarro-229a96159?miniProfileUrn=urn%3Ali%3Afs_miniProfile%3AACoAACYRysEBXfGAcDIaGm9H8GKxGEFJeAL8R2U',\n",
       " 'https://www.linkedin.com/in/yeisson-boada?miniProfileUrn=urn%3Ali%3Afs_miniProfile%3AACoAABs-L9IB8qO_wQlyvcd832pQyJHG90H-YME',\n",
       " 'https://www.linkedin.com/in/william-mu%C3%B1oz-a554441a3?miniProfileUrn=urn%3Ali%3Afs_miniProfile%3AACoAAC-VxOEBUP3_7qKhWHBlzYj4Z9yp7vfhJWY',\n",
       " 'https://www.linkedin.com/in/yeisson-alexander-ochoa-villa?miniProfileUrn=urn%3Ali%3Afs_miniProfile%3AACoAABlKIrABRbWoMrpQaAoioPsVtC_LoBhz3XE',\n",
       " 'https://www.linkedin.com/in/nicolas-reatiga?miniProfileUrn=urn%3Ali%3Afs_miniProfile%3AACoAACfvoJsBiWtxd9iVsyT7Ohhy85zzKBEvvlE',\n",
       " 'https://www.linkedin.com/in/harold-jaramillo?miniProfileUrn=urn%3Ali%3Afs_miniProfile%3AACoAABvVAKIBiiFCyq0rrhHCGHC9odxCHBmKBKQ',\n",
       " 'https://www.linkedin.com/in/luis-felipe-castillo-rengifo-90922690?miniProfileUrn=urn%3Ali%3Afs_miniProfile%3AACoAABNBJ5kBCAsCeX-ZbZ-oGhyb9RHJT7HzXf8',\n",
       " 'https://www.linkedin.com/in/ssotom?miniProfileUrn=urn%3Ali%3Afs_miniProfile%3AACoAACCZKy8BYyy0_g5g41lKXRSqF4q7eWvvhi4',\n",
       " 'https://www.linkedin.com/in/cvillar4?miniProfileUrn=urn%3Ali%3Afs_miniProfile%3AACoAAC3CCpYBevznri8n8smLGW1bRimhsErgIiY',\n",
       " 'https://www.linkedin.com/in/sergio-naranjo-morales?miniProfileUrn=urn%3Ali%3Afs_miniProfile%3AACoAADSkJHkBk8pW4SAgb3XsdPnLpHU7caRH6Fw',\n",
       " 'https://www.linkedin.com/in/onejulian?miniProfileUrn=urn%3Ali%3Afs_miniProfile%3AACoAADgC5D8B8E8rSmoHTekuU4oStNkUJ1qSCJw',\n",
       " 'https://www.linkedin.com/in/juan-carlos-p-6989054a?miniProfileUrn=urn%3Ali%3Afs_miniProfile%3AACoAAAp08ZQB-2XU9oaf_C9b-fNfLtu-DtkBfnM',\n",
       " 'https://www.linkedin.com/in/miguel-m-85868357?miniProfileUrn=urn%3Ali%3Afs_miniProfile%3AACoAAAwGGQQBVO76ZXzgm31mRvcXOmJ_e_lYV5I',\n",
       " 'https://www.linkedin.com/in/brian-bacarezza?miniProfileUrn=urn%3Ali%3Afs_miniProfile%3AACoAACKl2wYBJLlnkan0SQFknndP0tAKfUgHMSw']"
      ]
     },
     "execution_count": 41,
     "metadata": {},
     "output_type": "execute_result"
    }
   ],
   "source": [
    "URLs_all_page[:20]"
   ]
  },
  {
   "cell_type": "code",
   "execution_count": 26,
   "id": "773d721b-9d6f-4d16-96e3-abf319b52c8d",
   "metadata": {},
   "outputs": [],
   "source": [
    "firstPages = ['https://www.linkedin.com/in/carlosfemontoya?miniProfileUrn=urn%3Ali%3Afs_miniProfile%3AACoAACBsxEEBqQvIOPmAuIKNRn1YiyEJ4X27X5o',\n",
    " 'https://www.linkedin.com/in/juan-marcos-caicedo?miniProfileUrn=urn%3Ali%3Afs_miniProfile%3AACoAACxCt2gBBBVu98lbRxBTK0lNB-4IUL_qwyU',\n",
    " 'https://www.linkedin.com/in/cardel?miniProfileUrn=urn%3Ali%3Afs_miniProfile%3AACoAAAY7VIUB2-V2EvcSz2Di5O28cUg-Mks2Md4',\n",
    " 'https://www.linkedin.com/in/brayanrodbajo?miniProfileUrn=urn%3Ali%3Afs_miniProfile%3AACoAABrvvSwBrgOIq-dtkjTaXXlR5kwJxfxqYKE',\n",
    " 'https://www.linkedin.com/in/miguel-villanueva?miniProfileUrn=urn%3Ali%3Afs_miniProfile%3AACoAAApkaE0BFhhhvR7xOy03Y2-rVD5kAVfp49M',\n",
    " 'https://www.linkedin.com/in/juandprado?miniProfileUrn=urn%3Ali%3Afs_miniProfile%3AACoAACHNtLoBJl7AS0r3A-aJ-SRFDob8XvPqu_8',\n",
    " 'https://www.linkedin.com/in/stevensotelo?miniProfileUrn=urn%3Ali%3Afs_miniProfile%3AACoAAAQzyxQBEXhpnd-xIixR-Mfn-KE7dTOVxZw',\n",
    " 'https://www.linkedin.com/in/carlos-mario-socarras?miniProfileUrn=urn%3Ali%3Afs_miniProfile%3AACoAAAiTCZ0B_oFZk44_MTBkNMSWuoHdv9a4UHo',\n",
    " 'https://www.linkedin.com/in/holgiosalos?miniProfileUrn=urn%3Ali%3Afs_miniProfile%3AACoAAAxIzQAB-go3Rx-mSVGwD6qdS__VqzzmN7s',\n",
    " 'https://www.linkedin.com/in/soya-paul-190976149?miniProfileUrn=urn%3Ali%3Afs_miniProfile%3AACoAACPqnHwBhF0DcyL2ro0lLRTbOismkaM4eV8',\n",
    " 'https://www.linkedin.com/in/diego-fernandez-padron?miniProfileUrn=urn%3Ali%3Afs_miniProfile%3AACoAAB0AdKEBadkL2AUECuafDAWkxd4HFA5GnmQ',\n",
    " 'https://www.linkedin.com/in/paulshawcp?miniProfileUrn=urn%3Ali%3Afs_miniProfile%3AACoAAAEztDgBjUbsdpWzcYz3Ril9BfPmDqrkUnk',\n",
    " 'https://www.linkedin.com/in/james-a-payan-99a0528a?miniProfileUrn=urn%3Ali%3Afs_miniProfile%3AACoAABLfSAYBbOe6QzSI7Ws-tKInTtwBLiv2Txw',\n",
    " 'https://www.linkedin.com/in/daniela-ospina-toro?miniProfileUrn=urn%3Ali%3Afs_miniProfile%3AACoAACNmQpIBIHVVF3WiDnBgbVzXnqAEQJQmWnA',\n",
    " 'https://www.linkedin.com/in/diana-sierra-05a113a7?miniProfileUrn=urn%3Ali%3Afs_miniProfile%3AACoAABaeoYYBzERDgzDnQwMdvbSfEFNUdAFLC0o',\n",
    " 'https://www.linkedin.com/in/%C3%A1ngela-villota-g%C3%B3mez-b6a78730?miniProfileUrn=urn%3Ali%3Afs_miniProfile%3AACoAAAaFkcIBqr_Ft4-KUBr3xMI4nrmxJzwrFv8',\n",
    " 'https://www.linkedin.com/in/fages?miniProfileUrn=urn%3Ali%3Afs_miniProfile%3AACoAAAPvU8gBz-dVRyRsHz5YqSWOT7UiEmFdTeY',\n",
    " 'https://www.linkedin.com/in/jayanth-krishna-mogali-74039335?miniProfileUrn=urn%3Ali%3Afs_miniProfile%3AACoAAAdaZWABRl0hjYxAAq06pw5WgHql0kAyEtk',\n",
    " 'https://www.linkedin.com/in/addejans/profile-video/view/urn%3Ali%3Afsd%5Fstory%3Aurn%3Ali%3Astory%3AACoAAA7ceMIBFM0q4EZAb5dF30AcnBRQ2TFHom8']"
   ]
  },
  {
   "cell_type": "code",
   "execution_count": 204,
   "id": "0cdf9612-9878-4b97-b7e9-0a7008f3f577",
   "metadata": {},
   "outputs": [],
   "source": [
    "secondPages = URLs_all_page[14:]"
   ]
  },
  {
   "cell_type": "code",
   "execution_count": 206,
   "id": "27576278-b542-44d7-a433-804a089a2761",
   "metadata": {},
   "outputs": [
    {
     "data": {
      "text/plain": [
       "['https://www.linkedin.com/in/stivenloaiza?miniProfileUrn=urn%3Ali%3Afs_miniProfile%3AACoAAAsk4gwBt5HXn5bsARnAnuS26DPXemYjc8A',\n",
       " 'https://www.linkedin.com/in/juan-herrera-4985b1239?miniProfileUrn=urn%3Ali%3Afs_miniProfile%3AACoAADta0HQBvASsBDC_GJFVDARrxtkgHNmOkUk',\n",
       " 'https://www.linkedin.com/in/ninojeisson?miniProfileUrn=urn%3Ali%3Afs_miniProfile%3AACoAACnuK10BzDs761jdB8bJjGV0yx-pkpG6PMQ',\n",
       " 'https://www.linkedin.com/in/edward-calderon-0339b737?miniProfileUrn=urn%3Ali%3Afs_miniProfile%3AACoAAAfNBmcBTa4g-DlBaDJ8Lz_9-aJA7quNC6w',\n",
       " 'https://www.linkedin.com/in/santiago-giraldo-hernandez-a41631170?miniProfileUrn=urn%3Ali%3Afs_miniProfile%3AACoAACisB5EBn10zxwmX3M9bM3R8NJFJdeA6MnU']"
      ]
     },
     "execution_count": 206,
     "metadata": {},
     "output_type": "execute_result"
    }
   ],
   "source": [
    "secondPages"
   ]
  },
  {
   "cell_type": "code",
   "execution_count": 221,
   "id": "62d2f35b-6fdf-445f-9d5e-1d29b1382ceb",
   "metadata": {},
   "outputs": [],
   "source": [
    "lastPage = ['https://www.linkedin.com/in/julian-diaz-ingenieriadedatos']"
   ]
  },
  {
   "cell_type": "code",
   "execution_count": 158,
   "id": "9be19c66-3464-4f8d-b19c-e647149f3560",
   "metadata": {},
   "outputs": [
    {
     "name": "stdout",
     "output_type": "stream",
     "text": [
      "https://www.linkedin.com/in/jorgeorm?miniProfileUrn=urn%3Ali%3Afs_miniProfile%3AACoAAAwSvM8B-lTpXil8SaCRr4LDyBAY5_fWCH0\n",
      "https://www.linkedin.com/in/andres-betancourth?miniProfileUrn=urn%3Ali%3Afs_miniProfile%3AACoAADG9KBMBz18lytzhlI3OaVwPMzE5HpwG6s4\n",
      "https://www.linkedin.com/in/derly-viviana-murcia-serrano?miniProfileUrn=urn%3Ali%3Afs_miniProfile%3AACoAACf2cTYB18q1aqbbIfNKw-bztr0mBg83uIs\n",
      "https://www.linkedin.com/in/julianachois?miniProfileUrn=urn%3Ali%3Afs_miniProfile%3AACoAACF2sLMBaVPepp2yQnEjKfcFFNHWc5hzDbc\n",
      "https://www.linkedin.com/in/yolimarmarin?miniProfileUrn=urn%3Ali%3Afs_miniProfile%3AACoAACsIKiABLiy3soAJw4rzGs33xm9oWE1BGqs\n",
      "https://www.linkedin.com/in/l-miguel-mendez-t?miniProfileUrn=urn%3Ali%3Afs_miniProfile%3AACoAAC67cIoBQayH_ItsW_Ld8asj48S-237sBJo\n",
      "https://www.linkedin.com/in/victorzuluaga?miniProfileUrn=urn%3Ali%3Afs_miniProfile%3AACoAACMAWLMBr1Jf8r7oF-JinBoywY56fqZMkdM\n",
      "https://www.linkedin.com/in/johann-ocampo-torres-developer?miniProfileUrn=urn%3Ali%3Afs_miniProfile%3AACoAACixd-EBVOmQKkthtsEzmZEHi-4j9B7QLoc\n",
      "https://www.linkedin.com/in/ricardo-cort%C3%A9s-hurtado-b0848853?miniProfileUrn=urn%3Ali%3Afs_miniProfile%3AACoAAAtIZDgBese3F-nu-SsR5w-fJ5PPb2FBBJg\n",
      "https://www.linkedin.com/in/edgg72?miniProfileUrn=urn%3Ali%3Afs_miniProfile%3AACoAADEWm6gBvgmiHITMnBomqMFI49FFwkGp2-I\n",
      "https://www.linkedin.com/in/luisfernandocrucesvidal?miniProfileUrn=urn%3Ali%3Afs_miniProfile%3AACoAACh56SEBBYEdY2mbg-aO6tzzpFp83_k7oGc\n"
     ]
    }
   ],
   "source": [
    "import csv\n",
    "with open('myDataSet.csv', 'w+',  newline = '') as file_output:\n",
    "    headers = ['Job Title', 'Sumary', 'Skills', 'Experiences']\n",
    "    writer = csv.DictWriter(file_output, delimiter=',', lineterminator='\\n',fieldnames=headers)\n",
    "    writer.writeheader()\n",
    "    \n",
    "    for linkedin_URL in URLs_all_page:\n",
    "        print(linkedin_URL)\n",
    "        driver.get(linkedin_URL)\n",
    "        sleep(3)\n",
    "        page_source = BeautifulSoup(driver.page_source, \"html.parser\")\n",
    "        \n",
    "        #name = page_source.find(class_='mt2 relative').div.div.h1.get_text()\n",
    "        title = page_source.find(class_='text-body-medium break-words').get_text().strip()\n",
    "        sumary = page_source.find(class_='display-flex full-width').get_text().strip()\n",
    "        \n",
    "        main = driver.current_url\n",
    "        skillsURL = main + 'details/skills/'\n",
    "        driver.get(skillsURL)\n",
    "        sleep(3)\n",
    "        skills = BeautifulSoup(driver.page_source, \"html.parser\").find_all('div', class_='display-flex flex-row justify-space-between')\n",
    "        skillStriing = \"\"\n",
    "        for s in skills:\n",
    "            skillStriing += s.div.span.span.get_text() + \", \"\n",
    "        #print(skillStriing)\n",
    "\n",
    "        experURL = main + 'details/experience/'\n",
    "        driver.get(experURL)\n",
    "        sleep(3)\n",
    "        experiences = BeautifulSoup(driver.page_source, \"html.parser\").find_all('div', class_='display-flex flex-column full-width align-self-center')\n",
    "        expString = \"\"\n",
    "        for e in experiences:\n",
    "            expString += e.get_text().strip() + \".\"\n",
    "        #print(expString)\n",
    "        writer.writerow({headers[0]:title, headers[1]:sumary, headers[2]:skillStriing, headers[3]:expString})"
   ]
  },
  {
   "cell_type": "code",
   "execution_count": 42,
   "id": "5d53b7f0-9ef7-4988-8d6b-9368d71a9f4f",
   "metadata": {},
   "outputs": [
    {
     "name": "stdout",
     "output_type": "stream",
     "text": [
      "https://www.linkedin.com/in/daniel-correa-arango?miniProfileUrn=urn%3Ali%3Afs_miniProfile%3AACoAABY8hacBEr90FmIkJGIf44ukQvdU-XS3NwU\n",
      "https://www.linkedin.com/in/juli%C3%A1n-rinc%C3%B3n-117600199?miniProfileUrn=urn%3Ali%3Afs_miniProfile%3AACoAAC6KmKMBOAcWg2oOtxcrUUh4TJ0J1mw1YIs\n",
      "https://www.linkedin.com/in/angela-giraldo-software-developer?miniProfileUrn=urn%3Ali%3Afs_miniProfile%3AACoAAAvwzrkBSFLUB4E6XT4kCBTr1DRAx2FWJZo\n",
      "https://www.linkedin.com/in/pedro-alexis-alegr%C3%ADa-martinez-185509115?miniProfileUrn=urn%3Ali%3Afs_miniProfile%3AACoAABy6ybUBR4GlqCHLtJRkWD8mFRDa2wrDmVI\n",
      "https://www.linkedin.com/in/alejandro-cifuentes-montoya-803530142?miniProfileUrn=urn%3Ali%3Afs_miniProfile%3AACoAACKbE4MBlmwk1I2v6KO3SYkLe81Z3Jq6vjk\n",
      "https://www.linkedin.com/in/laatcode?miniProfileUrn=urn%3Ali%3Afs_miniProfile%3AACoAADLsIh0Bs8NBIMrqbnoJ89bb7lcyPz_VaYE\n",
      "https://www.linkedin.com/in/rafael-navarro-229a96159?miniProfileUrn=urn%3Ali%3Afs_miniProfile%3AACoAACYRysEBXfGAcDIaGm9H8GKxGEFJeAL8R2U\n",
      "https://www.linkedin.com/in/yeisson-boada?miniProfileUrn=urn%3Ali%3Afs_miniProfile%3AACoAABs-L9IB8qO_wQlyvcd832pQyJHG90H-YME\n",
      "https://www.linkedin.com/in/william-mu%C3%B1oz-a554441a3?miniProfileUrn=urn%3Ali%3Afs_miniProfile%3AACoAAC-VxOEBUP3_7qKhWHBlzYj4Z9yp7vfhJWY\n",
      "https://www.linkedin.com/in/yeisson-alexander-ochoa-villa?miniProfileUrn=urn%3Ali%3Afs_miniProfile%3AACoAABlKIrABRbWoMrpQaAoioPsVtC_LoBhz3XE\n",
      "https://www.linkedin.com/in/nicolas-reatiga?miniProfileUrn=urn%3Ali%3Afs_miniProfile%3AACoAACfvoJsBiWtxd9iVsyT7Ohhy85zzKBEvvlE\n",
      "https://www.linkedin.com/in/harold-jaramillo?miniProfileUrn=urn%3Ali%3Afs_miniProfile%3AACoAABvVAKIBiiFCyq0rrhHCGHC9odxCHBmKBKQ\n",
      "https://www.linkedin.com/in/luis-felipe-castillo-rengifo-90922690?miniProfileUrn=urn%3Ali%3Afs_miniProfile%3AACoAABNBJ5kBCAsCeX-ZbZ-oGhyb9RHJT7HzXf8\n",
      "https://www.linkedin.com/in/ssotom?miniProfileUrn=urn%3Ali%3Afs_miniProfile%3AACoAACCZKy8BYyy0_g5g41lKXRSqF4q7eWvvhi4\n",
      "https://www.linkedin.com/in/cvillar4?miniProfileUrn=urn%3Ali%3Afs_miniProfile%3AACoAAC3CCpYBevznri8n8smLGW1bRimhsErgIiY\n",
      "https://www.linkedin.com/in/sergio-naranjo-morales?miniProfileUrn=urn%3Ali%3Afs_miniProfile%3AACoAADSkJHkBk8pW4SAgb3XsdPnLpHU7caRH6Fw\n",
      "https://www.linkedin.com/in/onejulian?miniProfileUrn=urn%3Ali%3Afs_miniProfile%3AACoAADgC5D8B8E8rSmoHTekuU4oStNkUJ1qSCJw\n",
      "https://www.linkedin.com/in/juan-carlos-p-6989054a?miniProfileUrn=urn%3Ali%3Afs_miniProfile%3AACoAAAp08ZQB-2XU9oaf_C9b-fNfLtu-DtkBfnM\n",
      "https://www.linkedin.com/in/miguel-m-85868357?miniProfileUrn=urn%3Ali%3Afs_miniProfile%3AACoAAAwGGQQBVO76ZXzgm31mRvcXOmJ_e_lYV5I\n",
      "https://www.linkedin.com/in/brian-bacarezza?miniProfileUrn=urn%3Ali%3Afs_miniProfile%3AACoAACKl2wYBJLlnkan0SQFknndP0tAKfUgHMSw\n"
     ]
    }
   ],
   "source": [
    "with open('myDataSet.csv', 'a',  newline = '') as file_output:\n",
    "    headers = ['Job Title', 'Sumary', 'Skills', 'Experiences']\n",
    "    writer = csv.DictWriter(file_output, delimiter=',', lineterminator='\\n',fieldnames=headers)\n",
    "    \n",
    "    for linkedin_URL in URLs_all_page[:20]:\n",
    "        print(linkedin_URL)\n",
    "        driver.get(linkedin_URL)\n",
    "        sleep(3)\n",
    "        page_source = BeautifulSoup(driver.page_source, \"html.parser\")\n",
    "        \n",
    "        #name = page_source.find(class_='mt2 relative').div.div.h1.get_text()\n",
    "        title = page_source.find(class_='text-body-medium break-words').get_text().strip()\n",
    "        sumary = page_source.find(class_='display-flex full-width').get_text().strip()\n",
    "        \n",
    "        main = driver.current_url\n",
    "        skillsURL = main + 'details/skills/'\n",
    "        driver.get(skillsURL)\n",
    "        sleep(3)\n",
    "        skills = BeautifulSoup(driver.page_source, \"html.parser\").find_all('div', class_='display-flex flex-row justify-space-between')\n",
    "        skillStriing = \"\"\n",
    "        for s in skills:\n",
    "            skillStriing += s.div.span.span.get_text() + \", \"\n",
    "        #print(skillStriing)\n",
    "\n",
    "        experURL = main + 'details/experience/'\n",
    "        driver.get(experURL)\n",
    "        sleep(3)\n",
    "        experiences = BeautifulSoup(driver.page_source, \"html.parser\").find_all('div', class_='display-flex flex-column full-width align-self-center')\n",
    "        expString = \"\"\n",
    "        for e in experiences:\n",
    "            expString += e.get_text().strip() + \".\"\n",
    "        #print(expString)\n",
    "        writer.writerow({headers[0]:title, headers[1]:sumary, headers[2]:skillStriing, headers[3]:expString})"
   ]
  },
  {
   "cell_type": "code",
   "execution_count": 14,
   "id": "790eea4d-8011-4a68-aa52-e003ba5d9c9f",
   "metadata": {},
   "outputs": [],
   "source": [
    "from linkedin_scraper import Person, actions\n",
    "from selenium import webdriver\n",
    "from selenium.webdriver.common.by import By\n",
    "from selenium.webdriver.common.keys import Keys\n",
    "from bs4 import BeautifulSoup\n",
    "from time import sleep\n",
    "import csv"
   ]
  },
  {
   "cell_type": "code",
   "execution_count": null,
   "id": "9a7c6ef1-daf0-4b6b-982e-42f47bd4b81d",
   "metadata": {},
   "outputs": [],
   "source": []
  }
 ],
 "metadata": {
  "kernelspec": {
   "display_name": "Python 3 (ipykernel)",
   "language": "python",
   "name": "python3"
  },
  "language_info": {
   "codemirror_mode": {
    "name": "ipython",
    "version": 3
   },
   "file_extension": ".py",
   "mimetype": "text/x-python",
   "name": "python",
   "nbconvert_exporter": "python",
   "pygments_lexer": "ipython3",
   "version": "3.11.3"
  }
 },
 "nbformat": 4,
 "nbformat_minor": 5
}
